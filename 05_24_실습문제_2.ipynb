{
  "nbformat": 4,
  "nbformat_minor": 0,
  "metadata": {
    "colab": {
      "provenance": []
    },
    "kernelspec": {
      "name": "python3",
      "display_name": "Python 3"
    },
    "language_info": {
      "name": "python"
    }
  },
  "cells": [
    {
      "cell_type": "code",
      "source": [
        "# 2-1\n",
        "#Day 54\n",
        "\n",
        "from itertools import permutations\n",
        "\n",
        "def is_prime(nums) :\n",
        "  if nums < 2:\n",
        "        return False\n",
        "  for i in range(2, int(nums ** 0.5) + 1):\n",
        "        if nums % i == 0:\n",
        "            return False\n",
        "  return True\n",
        "\n",
        "def solution(n):\n",
        "    cir_primes = set()\n",
        "    for num in range(2, n):\n",
        "        if is_prime(num):\n",
        "            str_num = str(num)\n",
        "            circular = True\n",
        "            for perm in permutations(str_num):\n",
        "                if not is_prime(int(\"\".join(perm))):\n",
        "                    circular = False\n",
        "                    break\n",
        "            if circular:\n",
        "                cir_primes.add(num)\n",
        "    return cir_primes\n",
        "\n",
        "n = 1000000\n",
        "result = len(solution(n))\n",
        "print(result)\n"
      ],
      "metadata": {
        "id": "OCZmO7P9ka-L"
      },
      "execution_count": null,
      "outputs": []
    },
    {
      "cell_type": "code",
      "source": [
        "# 2-2\n",
        "# Day 53\n",
        "\n",
        "def solution(n):\n",
        "    nums = []\n",
        "    while n > 1:\n",
        "      for i in range(2, n+1):\n",
        "         if n % i == 0:\n",
        "          nums.append(i)\n",
        "          n //= i\n",
        "          break\n",
        "    return nums\n",
        "\n",
        "n = 12\n",
        "result = solution(n)\n",
        "print(result)"
      ],
      "metadata": {
        "colab": {
          "base_uri": "https://localhost:8080/"
        },
        "id": "hSJWcCcliiG0",
        "outputId": "a7d376f4-bdaf-438a-bf5f-b7cb955192a6"
      },
      "execution_count": null,
      "outputs": [
        {
          "output_type": "stream",
          "name": "stdout",
          "text": [
            "[2, 2, 3]\n"
          ]
        }
      ]
    },
    {
      "cell_type": "code",
      "source": [
        "# 2 -3\n",
        "# Day 23\n",
        "\n",
        "m = int(input(\"총 건수를 입력하시오:\"))\n",
        "n = int(input(\"한 페이지에 보여줄 게시물 수를 입력하시오:\"))\n",
        "\n",
        "if n >= 1 :\n",
        "  if m % n == 0 :\n",
        "    print(m//n)\n",
        "  else :\n",
        "    print((m//n)+1)\n",
        "else :\n",
        "  print(\"입력오류\")"
      ],
      "metadata": {
        "id": "OhyhDWUFjgHU"
      },
      "execution_count": null,
      "outputs": []
    },
    {
      "cell_type": "code",
      "source": [],
      "metadata": {
        "id": "yQ0uBMjgn65c"
      },
      "execution_count": null,
      "outputs": []
    }
  ]
}